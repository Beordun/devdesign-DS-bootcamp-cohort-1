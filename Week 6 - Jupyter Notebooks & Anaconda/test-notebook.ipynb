{
 "cells": [
  {
   "cell_type": "markdown",
   "id": "49e7f8ef",
   "metadata": {},
   "source": [
    "#### REQUIREMENTS\n",
    "\n",
    "- Python Version: 3.12.17"
   ]
  },
  {
   "cell_type": "code",
   "execution_count": 16,
   "id": "6ab27c1b",
   "metadata": {},
   "outputs": [
    {
     "name": "stdout",
     "output_type": "stream",
     "text": [
      "Hello, how are you?\n"
     ]
    }
   ],
   "source": [
    "print(\"Hello, how are you?\")"
   ]
  },
  {
   "cell_type": "code",
   "execution_count": 17,
   "id": "ba298d94",
   "metadata": {},
   "outputs": [
    {
     "name": "stdout",
     "output_type": "stream",
     "text": [
      "The user currently stays in China\n"
     ]
    }
   ],
   "source": [
    "location = input('Please enter you location: ')\n",
    "print(f\"The user currently stays in {location}\")"
   ]
  },
  {
   "cell_type": "markdown",
   "id": "20c93f70",
   "metadata": {},
   "source": [
    "### This a test document starting out with Jupyter Notebook!"
   ]
  },
  {
   "cell_type": "markdown",
   "id": "b2a0e0e1",
   "metadata": {},
   "source": [
    "Lorem ipsum dolor sit amet, consectetur adipiscing elit, sed do eiusmod tempor incididunt ut labore et dolore magna aliqua. Ut enim ad minim veniam, quis nostrud exercitation ullamco laboris nisi ut aliquip ex ea commodo consequat. Duis aute irure dolor in reprehenderit in voluptate velit esse cillum dolore eu fugiat nulla pariatur. Excepteur sint occaecat cupidatat non proident, sunt in culpa qui officia deserunt mollit anim id est laborum."
   ]
  },
  {
   "cell_type": "markdown",
   "id": "800ef4e3",
   "metadata": {},
   "source": [
    "Sed ut perspiciatis unde omnis iste natus error sit voluptatem accusantium doloremque laudantium, totam rem aperiam, eaque ipsa quae ab illo inventore veritatis et quasi architecto beatae vitae dicta sunt explicabo. "
   ]
  },
  {
   "cell_type": "markdown",
   "id": "4cf86ac3",
   "metadata": {},
   "source": [
    "Below are some list items:\n",
    "\n",
    "- Orange\n",
    "- Pencil\n",
    "- Mango\n",
    "- Crayon"
   ]
  },
  {
   "cell_type": "code",
   "execution_count": null,
   "id": "7cc897e5",
   "metadata": {},
   "outputs": [
    {
     "name": "stdout",
     "output_type": "stream",
     "text": [
      "The sum of tthe provided numbers is 147\n"
     ]
    }
   ],
   "source": [
    "def sum(num1, num2):\n",
    "    return num1 + num2\n",
    "\n",
    "print('The sum of the provided numbers is', sum(56, 91))"
   ]
  },
  {
   "cell_type": "code",
   "execution_count": 19,
   "id": "b46e8ffa",
   "metadata": {},
   "outputs": [],
   "source": [
    "name = \"Chris Idakwo\"\n",
    "age = 17\n",
    "height = 3.6"
   ]
  },
  {
   "cell_type": "code",
   "execution_count": 20,
   "id": "69105e91",
   "metadata": {},
   "outputs": [
    {
     "name": "stdout",
     "output_type": "stream",
     "text": [
      "Chris Idakwo\n"
     ]
    }
   ],
   "source": [
    "print(name)"
   ]
  }
 ],
 "metadata": {
  "kernelspec": {
   "display_name": "base",
   "language": "python",
   "name": "python3"
  },
  "language_info": {
   "codemirror_mode": {
    "name": "ipython",
    "version": 3
   },
   "file_extension": ".py",
   "mimetype": "text/x-python",
   "name": "python",
   "nbconvert_exporter": "python",
   "pygments_lexer": "ipython3",
   "version": "3.12.7"
  }
 },
 "nbformat": 4,
 "nbformat_minor": 5
}
