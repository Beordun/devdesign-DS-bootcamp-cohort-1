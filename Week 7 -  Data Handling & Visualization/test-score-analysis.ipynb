{
 "cells": [
  {
   "cell_type": "markdown",
   "id": "c1362226",
   "metadata": {},
   "source": [
    "As a data scientist working in education analytics, you often need to quickly analyze test results to identify patterns and outliers. This exercise simulates a scenario where you've received raw test scores and need to extract meaningful insights to report to school administrators."
   ]
  },
  {
   "cell_type": "code",
   "execution_count": 2,
   "id": "9352eca1",
   "metadata": {},
   "outputs": [],
   "source": [
    "import numpy as np"
   ]
  },
  {
   "cell_type": "markdown",
   "id": "5f262b15",
   "metadata": {},
   "source": [
    "You can generate a random number using `np.random.randint(0, 1)` and generate a random range (list) of numbers by providing the `size` argument"
   ]
  },
  {
   "cell_type": "code",
   "execution_count": 78,
   "id": "c83d2d74",
   "metadata": {},
   "outputs": [
    {
     "name": "stdout",
     "output_type": "stream",
     "text": [
      "[87 59 55 65 94 90 84 88 56 60 99 87 54 98 50 97 71 56 55 70 70 51 70 82\n",
      " 73]\n"
     ]
    }
   ],
   "source": [
    "numbers = np.random.randint(50, 101, size=25)\n",
    "print(numbers)"
   ]
  },
  {
   "cell_type": "code",
   "execution_count": 75,
   "id": "fbf34522",
   "metadata": {},
   "outputs": [
    {
     "name": "stdout",
     "output_type": "stream",
     "text": [
      "75.65\n",
      "78.5\n",
      "13.620847991222867\n"
     ]
    }
   ],
   "source": [
    "print(np.mean(numbers))\n",
    "print(np.median(numbers))\n",
    "print(np.std(numbers))"
   ]
  },
  {
   "cell_type": "code",
   "execution_count": 45,
   "id": "9608f0a3",
   "metadata": {},
   "outputs": [
    {
     "name": "stdout",
     "output_type": "stream",
     "text": [
      "Position of minimum: 0\n",
      "Position of maximum: 50\n"
     ]
    }
   ],
   "source": [
    "print(\"Position of minimum:\", np.argmin(numbers))\n",
    "print(\"Position of maximum:\", np.argmax(numbers))"
   ]
  },
  {
   "cell_type": "code",
   "execution_count": 46,
   "id": "5146ff76",
   "metadata": {},
   "outputs": [
    {
     "name": "stdout",
     "output_type": "stream",
     "text": [
      "Min: 50\n",
      "Max: 100\n"
     ]
    }
   ],
   "source": [
    "print(\"Min:\", np.min(numbers))\n",
    "print(\"Max:\", np.max(numbers))"
   ]
  },
  {
   "cell_type": "code",
   "execution_count": null,
   "id": "f4aa431f",
   "metadata": {},
   "outputs": [
    {
     "name": "stdout",
     "output_type": "stream",
     "text": [
      "[63.333333333333336, 69.0, 82.33333333333333]\n"
     ]
    }
   ],
   "source": [
    "student_scores = [\n",
    "    [80, 50, 60],\n",
    "    [90, 68, 49],\n",
    "    [90, 86, 71],\n",
    "]\n",
    "\n",
    "for scoreGroup in student_scores:\n",
    "    average.append(sum(scoreGroup) / len(scoreGroup))\n",
    "\n",
    "print(average)"
   ]
  },
  {
   "cell_type": "code",
   "execution_count": null,
   "id": "684b8318",
   "metadata": {},
   "outputs": [
    {
     "name": "stdout",
     "output_type": "stream",
     "text": [
      "Students average [63.33333333 69.         82.33333333]\n",
      "Subjects average [86.66666667 68.         60.        ]\n"
     ]
    }
   ],
   "source": [
    "# the axis argument is for the x and y axis of the matrix array where 0 represents the y axis and 1 represents the x axis\n",
    "students_average = np.mean(student_scores, axis=1)\n",
    "subjects_average = np.mean(student_scores, axis=0)\n",
    "\n",
    "print(\"Students average\", students_average)\n",
    "print(\"Subjects average\", subjects_average)"
   ]
  }
 ],
 "metadata": {
  "kernelspec": {
   "display_name": "base",
   "language": "python",
   "name": "python3"
  },
  "language_info": {
   "codemirror_mode": {
    "name": "ipython",
    "version": 3
   },
   "file_extension": ".py",
   "mimetype": "text/x-python",
   "name": "python",
   "nbconvert_exporter": "python",
   "pygments_lexer": "ipython3",
   "version": "3.12.7"
  }
 },
 "nbformat": 4,
 "nbformat_minor": 5
}
