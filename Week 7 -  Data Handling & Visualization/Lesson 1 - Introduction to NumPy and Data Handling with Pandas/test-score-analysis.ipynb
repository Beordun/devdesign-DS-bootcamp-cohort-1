{
 "cells": [
  {
   "cell_type": "markdown",
   "id": "c1362226",
   "metadata": {},
   "source": [
    "As a data scientist working in education analytics, you often need to quickly analyze test results to identify patterns and outliers. This exercise simulates a scenario where you've received raw test scores and need to extract meaningful insights to report to school administrators."
   ]
  },
  {
   "cell_type": "code",
   "execution_count": null,
   "id": "9352eca1",
   "metadata": {},
   "outputs": [],
   "source": [
    "import numpy as np"
   ]
  },
  {
   "cell_type": "markdown",
   "id": "5f262b15",
   "metadata": {},
   "source": [
    "You can generate a random number using `np.random.randint(0, 1)` and generate a random range (list) of numbers by providing the `size` argument"
   ]
  },
  {
   "cell_type": "code",
   "execution_count": 3,
   "id": "c83d2d74",
   "metadata": {},
   "outputs": [
    {
     "name": "stdout",
     "output_type": "stream",
     "text": [
      "[55 97 93 56 88 62 54 83 59 87 97 88 50 83 60 89 62 59 54 75 85 59 57 81\n",
      " 88]\n"
     ]
    }
   ],
   "source": [
    "testScores = np.random.randint(50, 101, size=25)\n",
    "print(testScores)"
   ]
  },
  {
   "cell_type": "code",
   "execution_count": 6,
   "id": "fbf34522",
   "metadata": {},
   "outputs": [
    {
     "name": "stdout",
     "output_type": "stream",
     "text": [
      "72.84\n",
      "75.0\n",
      "15.759898476830365\n",
      "Min: 50\n",
      "Max: 97\n"
     ]
    }
   ],
   "source": [
    "print(np.mean(testScores))\n",
    "print(np.median(testScores))\n",
    "print(np.std(testScores))\n",
    "print(\"Min:\", np.min(testScores))\n",
    "print(\"Max:\", np.max(testScores))"
   ]
  },
  {
   "cell_type": "code",
   "execution_count": null,
   "id": "9608f0a3",
   "metadata": {},
   "outputs": [],
   "source": [
    "print(\"Position of minimum:\", np.argmin(numbers))\n",
    "print(\"Position of maximum:\", np.argmax(numbers))"
   ]
  },
  {
   "cell_type": "code",
   "execution_count": 7,
   "id": "f4aa431f",
   "metadata": {},
   "outputs": [
    {
     "name": "stdout",
     "output_type": "stream",
     "text": [
      "[63.333333333333336, 69.0, 82.33333333333333]\n"
     ]
    }
   ],
   "source": [
    "student_scores = [\n",
    "    [80, 50, 60],\n",
    "    [90, 68, 49],\n",
    "    [90, 86, 71],\n",
    "]\n",
    "\n",
    "average = []\n",
    "\n",
    "for scoreGroup in student_scores:\n",
    "    average.append(sum(scoreGroup) / len(scoreGroup))\n",
    "\n",
    "print(average)"
   ]
  },
  {
   "cell_type": "code",
   "execution_count": null,
   "id": "684b8318",
   "metadata": {},
   "outputs": [],
   "source": [
    "# the axis argument is for the x and y axis of the matrix array where 0 represents the y axis and 1 represents the x axis\n",
    "students_average = np.mean(student_scores, axis=1)\n",
    "subjects_average = np.mean(student_scores, axis=0)\n",
    "\n",
    "print(\"Students average\", students_average)\n",
    "print(\"Subjects average\", subjects_average)"
   ]
  }
 ],
 "metadata": {
  "kernelspec": {
   "display_name": "base",
   "language": "python",
   "name": "python3"
  },
  "language_info": {
   "codemirror_mode": {
    "name": "ipython",
    "version": 3
   },
   "file_extension": ".py",
   "mimetype": "text/x-python",
   "name": "python",
   "nbconvert_exporter": "python",
   "pygments_lexer": "ipython3",
   "version": "3.12.7"
  }
 },
 "nbformat": 4,
 "nbformat_minor": 5
}
