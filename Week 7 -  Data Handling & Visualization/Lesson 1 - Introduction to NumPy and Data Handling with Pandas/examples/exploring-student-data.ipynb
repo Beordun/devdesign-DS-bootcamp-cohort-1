{
 "cells": [
  {
   "cell_type": "code",
   "execution_count": 70,
   "id": "05c7b3f9",
   "metadata": {},
   "outputs": [],
   "source": [
    "import pandas as pd\n",
    "from pprint import pprint"
   ]
  },
  {
   "cell_type": "code",
   "execution_count": 71,
   "id": "c4e03ac7",
   "metadata": {},
   "outputs": [
    {
     "name": "stdout",
     "output_type": "stream",
     "text": [
      "\n",
      "\n",
      "Loading students records from CSV...\n"
     ]
    }
   ],
   "source": [
    "print('\\n')\n",
    "print('Loading students records from CSV...')\n",
    "\n",
    "students_df = pd.read_csv('../../files/students_record.csv')"
   ]
  },
  {
   "cell_type": "code",
   "execution_count": 72,
   "id": "15e8d72d",
   "metadata": {},
   "outputs": [
    {
     "name": "stdout",
     "output_type": "stream",
     "text": [
      "\n",
      "============== DATA EXPLORATION ==============\n",
      "\n",
      "21 rows, 11 columns\n",
      "\n",
      "------ COLUMN NAMES ------\n",
      "['student_id',\n",
      " 'first_name',\n",
      " 'last_name',\n",
      " 'gender',\n",
      " 'age',\n",
      " 'grade_level',\n",
      " 'math_score',\n",
      " 'science_score',\n",
      " 'english_score',\n",
      " 'history_score',\n",
      " 'attendance_rate']\n",
      "\n",
      "------ DATA TYPES ------\n",
      "student_id          object\n",
      "first_name          object\n",
      "last_name           object\n",
      "gender              object\n",
      "age                  int64\n",
      "grade_level          int64\n",
      "math_score         float64\n",
      "science_score      float64\n",
      "english_score      float64\n",
      "history_score        int64\n",
      "attendance_rate    float64\n",
      "dtype: object\n",
      "  student_id first_name last_name gender  age  grade_level  math_score  \\\n",
      "0     STU001       Emma   Johnson      F   16           10        92.0   \n",
      "1     STU002       Liam     Smith      M   15           10        78.0   \n",
      "2     STU003     Olivia  Williams      F   16           10        95.0   \n",
      "3     STU004       Noah     Brown      M   17           11        45.0   \n",
      "4     STU005        Ava     Jones      F   16           10        82.0   \n",
      "\n",
      "   science_score  english_score  history_score  attendance_rate  \n",
      "0           88.0           95.0             78             0.97  \n",
      "1           82.0           65.0             91             0.89  \n",
      "2           96.0            NaN             94             0.98  \n",
      "3           58.0           72.0             63             0.75  \n",
      "4           79.0           85.0             80             0.92  \n",
      "\n",
      " Missing values in each column\n",
      "student_id         0\n",
      "first_name         0\n",
      "last_name          0\n",
      "gender             0\n",
      "age                0\n",
      "grade_level        0\n",
      "math_score         4\n",
      "science_score      2\n",
      "english_score      1\n",
      "history_score      0\n",
      "attendance_rate    0\n",
      "dtype: int64\n"
     ]
    }
   ],
   "source": [
    "print('\\n============== DATA EXPLORATION ==============')\n",
    "\n",
    "(rows, columns) = students_df.shape\n",
    "\n",
    "print(f\"\\n{rows} rows, {columns} columns\")\n",
    "\n",
    "print('\\n------ COLUMN NAMES ------')\n",
    "pprint(students_df.columns.tolist())\n",
    "\n",
    "print('\\n------ DATA TYPES ------')\n",
    "pprint(students_df.dtypes)\n",
    "\n",
    "print(students_df.head())\n",
    "\n",
    "print('\\n Missing values in each column')\n",
    "print(students_df.isnull().sum())"
   ]
  },
  {
   "cell_type": "code",
   "execution_count": 73,
   "id": "12cd25c4",
   "metadata": {},
   "outputs": [
    {
     "name": "stdout",
     "output_type": "stream",
     "text": [
      "\n",
      "============== BASIC STATISTICS ==============\n",
      "             age  grade_level  math_score  science_score  english_score  \\\n",
      "count  21.000000    21.000000   17.000000      19.000000      20.000000   \n",
      "mean   16.047619    10.142857   79.117647      81.105263      81.050000   \n",
      "std     0.804748     0.727029   12.559271       9.085365       9.779005   \n",
      "min    15.000000     9.000000   45.000000      58.000000      65.000000   \n",
      "25%    15.000000    10.000000   73.000000      77.000000      74.250000   \n",
      "50%    16.000000    10.000000   82.000000      81.000000      81.500000   \n",
      "75%    17.000000    11.000000   89.000000      87.500000      88.500000   \n",
      "max    17.000000    11.000000   95.000000      96.000000      95.000000   \n",
      "\n",
      "       history_score  attendance_rate  \n",
      "count      21.000000        21.000000  \n",
      "mean       81.428571         0.900476  \n",
      "std         9.228063         0.060123  \n",
      "min        63.000000         0.750000  \n",
      "25%        78.000000         0.880000  \n",
      "50%        81.000000         0.910000  \n",
      "75%        88.000000         0.940000  \n",
      "max        94.000000         0.980000  \n",
      "\n",
      "------ TOP 5 STUDENTS ------\n",
      "   student_id first_name  last_name  average_score\n",
      "2      STU003     Olivia   Williams          95.00\n",
      "18     STU019     Evelyn    Jackson          91.25\n",
      "0      STU001       Emma    Johnson          88.25\n",
      "8      STU009   Isabella  Rodriguez          88.00\n",
      "12     STU013        Mia   Gonzalez          87.25\n"
     ]
    }
   ],
   "source": [
    "print('\\n============== BASIC STATISTICS ==============')\n",
    "\n",
    "# subject_columns = []\n",
    "# for col in students_df.columns:\n",
    "#     if '_score' in col:\n",
    "#         subject_columns.append(col)\n",
    "\n",
    "# The code below is a list comprehension that produces the same result as the 4 lines of commented code above\n",
    "\n",
    "subject_columns = [col for col in students_df.columns if '_score' in col]\n",
    "\n",
    "print(students_df.describe())\n",
    "\n",
    "students_df['average_score'] = students_df[subject_columns].mean(axis=1).round(2)\n",
    "\n",
    "top_students = students_df.sort_values('average_score', ascending=False).head(5)\n",
    "\n",
    "print('\\n------ TOP 5 STUDENTS ------')\n",
    "print(top_students[['student_id', 'first_name', 'last_name', 'average_score']])"
   ]
  },
  {
   "cell_type": "code",
   "execution_count": null,
   "id": "96a1a5e6",
   "metadata": {},
   "outputs": [
    {
     "name": "stdout",
     "output_type": "stream",
     "text": [
      "\n",
      "============== PASS/FAIL STATUS ==============\n",
      "------ Pass Percentage: 80.95 ------\n",
      "\n",
      "------ PASS PERCENTAGE BY GRADE LEVEL ------\n",
      "<class 'pandas.core.series.Series'>\n",
      "\n",
      "------ AVERAGE SCORE BY GRADE LEVEL ------\n",
      "grade_level\n",
      "9     81.88\n",
      "10    82.38\n",
      "11    77.96\n",
      "Name: average_score, dtype: float64\n"
     ]
    }
   ],
   "source": [
    "print('\\n============== PASS/FAIL STATUS ==============')\n",
    "\n",
    "def determine_pass_or_fail(score):\n",
    "    return score > 75\n",
    "\n",
    "    # if score > 75:\n",
    "    #     return True\n",
    "    # else\n",
    "    #     return False\n",
    "\n",
    "    # return True if score > 75 else False\n",
    "\n",
    "students_df['pass_fail'] = students_df['average_score'].apply(determine_pass_or_fail)\n",
    "\n",
    "pass_fail_counts = students_df['pass_fail'].value_counts()\n",
    "\n",
    "# print(pass_fail_counts[False])\n",
    "\n",
    "print(\n",
    "    '------ Pass Percentage:',\n",
    "    (pass_fail_counts[True] / len(students_df) * 100).round(2),\n",
    "    '------'\n",
    ")\n",
    "\n",
    "def calculate_pass_percentage(group):\n",
    "    \"\"\"\n",
    "    Counts how many students have True in their pass_fail column, divides by the total number of students in that grade (or group), and multiplies by 100 to get a percentage\n",
    "    \"\"\"\n",
    "\n",
    "    # pass_count = (group == True).sum()\n",
    "\n",
    "    # Although the commented code above gives you the same result as the code below, the one below is a preferred and safer means\n",
    "    # of getting the count of students with True in their respective pass_fail column.\n",
    "    # It's even more self-explanatory than the one above\n",
    "    pass_count = group.value_counts().get(True, 0)\n",
    "\n",
    "    pass_percentage = (pass_count / len(group)) * 100\n",
    "    return round(pass_percentage, 2)\n",
    "\n",
    "\n",
    "# This creates groups of students based on their grade level.\n",
    "# The ['pass_fail'] part specifies that we're only interested in the 'pass_fail' column values for each group\n",
    "grade_level_groups = students_df.groupby('grade_level')['pass_fail']\n",
    "\n",
    "# Here we execute a custom `calculate_pass_percentage`` function on each grade_level group\n",
    "# and calculates what percentage of students that passed\n",
    "grade_level_pass = grade_level_groups.apply(calculate_pass_percentage)\n",
    "print('\\n------ PASS PERCENTAGE BY GRADE LEVEL ------')\n",
    "print(grade_level_pass)\n",
    "\n",
    "# Groups the students dataframe by the 'grade_level' column, selects only the 'average_score' column from each group,\n",
    "# and calculates the mean (average) of the 'average_score' values for each grade level group.\n",
    "# Then we round each mean value to 2 decimal places for cleaner presentation\n",
    "grade_level_avg = students_df.groupby('grade_level')['average_score'].mean().round(2)\n",
    "print('\\n------ AVERAGE SCORE BY GRADE LEVEL ------')\n",
    "print(grade_level_avg)"
   ]
  },
  {
   "cell_type": "markdown",
   "id": "2eabbded",
   "metadata": {},
   "source": [
    "This tells us the average performance of students in each grade level. It's a useful metric for comparing performance across grades and can help identify trends (e.g., whether performance improves as students progress through grades).\n",
    "\n",
    "This approach is much more efficient than manually filtering the dataframe for each grade level and then calculating the mean, especially when dealing with large datasets."
   ]
  },
  {
   "cell_type": "code",
   "execution_count": 75,
   "id": "b4fda376",
   "metadata": {},
   "outputs": [],
   "source": [
    "students_df.to_csv('../../files/students_updated_record.csv', index=False)"
   ]
  }
 ],
 "metadata": {
  "kernelspec": {
   "display_name": "base",
   "language": "python",
   "name": "python3"
  },
  "language_info": {
   "codemirror_mode": {
    "name": "ipython",
    "version": 3
   },
   "file_extension": ".py",
   "mimetype": "text/x-python",
   "name": "python",
   "nbconvert_exporter": "python",
   "pygments_lexer": "ipython3",
   "version": "3.12.7"
  }
 },
 "nbformat": 4,
 "nbformat_minor": 5
}
