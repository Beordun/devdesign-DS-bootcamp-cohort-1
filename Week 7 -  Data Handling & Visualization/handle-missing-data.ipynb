{
 "cells": [
  {
   "cell_type": "code",
   "execution_count": 7,
   "id": "d9fcfa88",
   "metadata": {},
   "outputs": [
    {
     "name": "stdout",
     "output_type": "stream",
     "text": [
      "Missing values in each column:\n",
      "student_id         0\n",
      "first_name         0\n",
      "last_name          0\n",
      "gender             0\n",
      "age                0\n",
      "grade_level        0\n",
      "math_score         3\n",
      "science_score      2\n",
      "english_score      1\n",
      "history_score      0\n",
      "attendance_rate    0\n",
      "dtype: int64\n"
     ]
    }
   ],
   "source": [
    "import pandas as pd\n",
    "import numpy as np\n",
    "\n",
    "students_df = pd.read_csv('files/students_record.csv')\n",
    "\n",
    "# Checking for missing values\n",
    "print(\"Missing values in each column:\")\n",
    "print(students_df.isnull().sum())"
   ]
  }
 ],
 "metadata": {
  "kernelspec": {
   "display_name": "base",
   "language": "python",
   "name": "python3"
  },
  "language_info": {
   "codemirror_mode": {
    "name": "ipython",
    "version": 3
   },
   "file_extension": ".py",
   "mimetype": "text/x-python",
   "name": "python",
   "nbconvert_exporter": "python",
   "pygments_lexer": "ipython3",
   "version": "3.12.7"
  }
 },
 "nbformat": 4,
 "nbformat_minor": 5
}
